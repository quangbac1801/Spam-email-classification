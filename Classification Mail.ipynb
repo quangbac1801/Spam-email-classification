{
 "cells": [
  {
   "cell_type": "code",
   "execution_count": 1,
   "id": "f851de80",
   "metadata": {},
   "outputs": [],
   "source": [
    "import pandas as pd\n",
    "import numpy as np\n",
    "import matplotlib.pyplot as plt\n",
    "import seaborn as sns\n",
    "#-----------------------------------------\n",
    "import warnings\n",
    "warnings.filterwarnings('ignore')"
   ]
  },
  {
   "cell_type": "code",
   "execution_count": 2,
   "id": "0d8ca531",
   "metadata": {},
   "outputs": [
    {
     "name": "stdout",
     "output_type": "stream",
     "text": [
      "<class 'pandas.core.frame.DataFrame'>\n",
      "RangeIndex: 5171 entries, 0 to 5170\n",
      "Data columns (total 4 columns):\n",
      " #   Column      Non-Null Count  Dtype \n",
      "---  ------      --------------  ----- \n",
      " 0   Unnamed: 0  5171 non-null   int64 \n",
      " 1   label       5171 non-null   object\n",
      " 2   text        5171 non-null   object\n",
      " 3   label_num   5171 non-null   int64 \n",
      "dtypes: int64(2), object(2)\n",
      "memory usage: 161.7+ KB\n"
     ]
    }
   ],
   "source": [
    "data = pd.read_csv('spam_ham_dataset.csv')\n",
    "data.info()"
   ]
  },
  {
   "cell_type": "code",
   "execution_count": 3,
   "id": "72b309a9",
   "metadata": {},
   "outputs": [
    {
     "data": {
      "text/html": [
       "<div>\n",
       "<style scoped>\n",
       "    .dataframe tbody tr th:only-of-type {\n",
       "        vertical-align: middle;\n",
       "    }\n",
       "\n",
       "    .dataframe tbody tr th {\n",
       "        vertical-align: top;\n",
       "    }\n",
       "\n",
       "    .dataframe thead th {\n",
       "        text-align: right;\n",
       "    }\n",
       "</style>\n",
       "<table border=\"1\" class=\"dataframe\">\n",
       "  <thead>\n",
       "    <tr style=\"text-align: right;\">\n",
       "      <th></th>\n",
       "      <th>Unnamed: 0</th>\n",
       "      <th>label</th>\n",
       "      <th>text</th>\n",
       "      <th>label_num</th>\n",
       "    </tr>\n",
       "  </thead>\n",
       "  <tbody>\n",
       "    <tr>\n",
       "      <th>0</th>\n",
       "      <td>605</td>\n",
       "      <td>ham</td>\n",
       "      <td>Subject: enron methanol ; meter # : 988291\\nth...</td>\n",
       "      <td>0</td>\n",
       "    </tr>\n",
       "    <tr>\n",
       "      <th>1</th>\n",
       "      <td>2349</td>\n",
       "      <td>ham</td>\n",
       "      <td>Subject: hpl nom for january 9 , 2001\\n( see a...</td>\n",
       "      <td>0</td>\n",
       "    </tr>\n",
       "    <tr>\n",
       "      <th>2</th>\n",
       "      <td>3624</td>\n",
       "      <td>ham</td>\n",
       "      <td>Subject: neon retreat\\nho ho ho , we ' re arou...</td>\n",
       "      <td>0</td>\n",
       "    </tr>\n",
       "    <tr>\n",
       "      <th>3</th>\n",
       "      <td>4685</td>\n",
       "      <td>spam</td>\n",
       "      <td>Subject: photoshop , windows , office . cheap ...</td>\n",
       "      <td>1</td>\n",
       "    </tr>\n",
       "    <tr>\n",
       "      <th>4</th>\n",
       "      <td>2030</td>\n",
       "      <td>ham</td>\n",
       "      <td>Subject: re : indian springs\\nthis deal is to ...</td>\n",
       "      <td>0</td>\n",
       "    </tr>\n",
       "  </tbody>\n",
       "</table>\n",
       "</div>"
      ],
      "text/plain": [
       "   Unnamed: 0 label                                               text  \\\n",
       "0         605   ham  Subject: enron methanol ; meter # : 988291\\nth...   \n",
       "1        2349   ham  Subject: hpl nom for january 9 , 2001\\n( see a...   \n",
       "2        3624   ham  Subject: neon retreat\\nho ho ho , we ' re arou...   \n",
       "3        4685  spam  Subject: photoshop , windows , office . cheap ...   \n",
       "4        2030   ham  Subject: re : indian springs\\nthis deal is to ...   \n",
       "\n",
       "   label_num  \n",
       "0          0  \n",
       "1          0  \n",
       "2          0  \n",
       "3          1  \n",
       "4          0  "
      ]
     },
     "execution_count": 3,
     "metadata": {},
     "output_type": "execute_result"
    }
   ],
   "source": [
    "data.head()"
   ]
  },
  {
   "cell_type": "code",
   "execution_count": 4,
   "id": "93d7b87c",
   "metadata": {},
   "outputs": [
    {
     "data": {
      "text/html": [
       "<div>\n",
       "<style scoped>\n",
       "    .dataframe tbody tr th:only-of-type {\n",
       "        vertical-align: middle;\n",
       "    }\n",
       "\n",
       "    .dataframe tbody tr th {\n",
       "        vertical-align: top;\n",
       "    }\n",
       "\n",
       "    .dataframe thead th {\n",
       "        text-align: right;\n",
       "    }\n",
       "</style>\n",
       "<table border=\"1\" class=\"dataframe\">\n",
       "  <thead>\n",
       "    <tr style=\"text-align: right;\">\n",
       "      <th></th>\n",
       "      <th>Unnamed: 0</th>\n",
       "      <th>label</th>\n",
       "      <th>text</th>\n",
       "      <th>label_num</th>\n",
       "    </tr>\n",
       "  </thead>\n",
       "  <tbody>\n",
       "    <tr>\n",
       "      <th>5166</th>\n",
       "      <td>1518</td>\n",
       "      <td>ham</td>\n",
       "      <td>Subject: put the 10 on the ft\\nthe transport v...</td>\n",
       "      <td>0</td>\n",
       "    </tr>\n",
       "    <tr>\n",
       "      <th>5167</th>\n",
       "      <td>404</td>\n",
       "      <td>ham</td>\n",
       "      <td>Subject: 3 / 4 / 2000 and following noms\\nhpl ...</td>\n",
       "      <td>0</td>\n",
       "    </tr>\n",
       "    <tr>\n",
       "      <th>5168</th>\n",
       "      <td>2933</td>\n",
       "      <td>ham</td>\n",
       "      <td>Subject: calpine daily gas nomination\\n&gt;\\n&gt;\\nj...</td>\n",
       "      <td>0</td>\n",
       "    </tr>\n",
       "    <tr>\n",
       "      <th>5169</th>\n",
       "      <td>1409</td>\n",
       "      <td>ham</td>\n",
       "      <td>Subject: industrial worksheets for august 2000...</td>\n",
       "      <td>0</td>\n",
       "    </tr>\n",
       "    <tr>\n",
       "      <th>5170</th>\n",
       "      <td>4807</td>\n",
       "      <td>spam</td>\n",
       "      <td>Subject: important online banking alert\\ndear ...</td>\n",
       "      <td>1</td>\n",
       "    </tr>\n",
       "  </tbody>\n",
       "</table>\n",
       "</div>"
      ],
      "text/plain": [
       "      Unnamed: 0 label                                               text  \\\n",
       "5166        1518   ham  Subject: put the 10 on the ft\\nthe transport v...   \n",
       "5167         404   ham  Subject: 3 / 4 / 2000 and following noms\\nhpl ...   \n",
       "5168        2933   ham  Subject: calpine daily gas nomination\\n>\\n>\\nj...   \n",
       "5169        1409   ham  Subject: industrial worksheets for august 2000...   \n",
       "5170        4807  spam  Subject: important online banking alert\\ndear ...   \n",
       "\n",
       "      label_num  \n",
       "5166          0  \n",
       "5167          0  \n",
       "5168          0  \n",
       "5169          0  \n",
       "5170          1  "
      ]
     },
     "execution_count": 4,
     "metadata": {},
     "output_type": "execute_result"
    }
   ],
   "source": [
    "data.tail()"
   ]
  },
  {
   "cell_type": "code",
   "execution_count": 5,
   "id": "e97b37c6",
   "metadata": {},
   "outputs": [
    {
     "name": "stdout",
     "output_type": "stream",
     "text": [
      "[['Subject: 18 noms to city gates\\n- - - - - - - - - - - - - - - - - - - - - - forwarded by ami chokshi / corp / enron on 01 / 18 / 2000\\n07 : 52 am - - - - - - - - - - - - - - - - - - - - - - - - - - -\\ntroy _ a _ benoit @ reliantenergy . com on 01 / 17 / 2000 11 : 12 : 54 am\\nto : ami chokshi / corp / enron @ enron\\ncc :\\nsubject : 18 noms to city gates\\n( see attached file : hpl - jan . xls )\\n- hpl - jan . xls']]\n"
     ]
    }
   ],
   "source": [
    "print(data.loc[[4000],['text']].values) "
   ]
  },
  {
   "cell_type": "code",
   "execution_count": 6,
   "id": "c011d755",
   "metadata": {},
   "outputs": [
    {
     "data": {
      "text/plain": [
       "Unnamed: 0    0\n",
       "label         0\n",
       "text          0\n",
       "label_num     0\n",
       "dtype: int64"
      ]
     },
     "execution_count": 6,
     "metadata": {},
     "output_type": "execute_result"
    }
   ],
   "source": [
    "data.isnull().sum()"
   ]
  },
  {
   "cell_type": "code",
   "execution_count": 7,
   "id": "d8c884f8",
   "metadata": {},
   "outputs": [
    {
     "data": {
      "text/plain": [
       "0"
      ]
     },
     "execution_count": 7,
     "metadata": {},
     "output_type": "execute_result"
    }
   ],
   "source": [
    "data.duplicated().sum()"
   ]
  },
  {
   "cell_type": "code",
   "execution_count": 8,
   "id": "fa5bc691",
   "metadata": {},
   "outputs": [],
   "source": [
    "#Xóa cột không cần thiết\n",
    "data.drop(['Unnamed: 0','label'],axis=1, inplace=True)\n"
   ]
  },
  {
   "cell_type": "code",
   "execution_count": 9,
   "id": "3bc6234b",
   "metadata": {},
   "outputs": [
    {
     "data": {
      "text/html": [
       "<div>\n",
       "<style scoped>\n",
       "    .dataframe tbody tr th:only-of-type {\n",
       "        vertical-align: middle;\n",
       "    }\n",
       "\n",
       "    .dataframe tbody tr th {\n",
       "        vertical-align: top;\n",
       "    }\n",
       "\n",
       "    .dataframe thead th {\n",
       "        text-align: right;\n",
       "    }\n",
       "</style>\n",
       "<table border=\"1\" class=\"dataframe\">\n",
       "  <thead>\n",
       "    <tr style=\"text-align: right;\">\n",
       "      <th></th>\n",
       "      <th>text</th>\n",
       "      <th>label_num</th>\n",
       "    </tr>\n",
       "  </thead>\n",
       "  <tbody>\n",
       "    <tr>\n",
       "      <th>0</th>\n",
       "      <td>Subject: enron methanol ; meter # : 988291\\nth...</td>\n",
       "      <td>0</td>\n",
       "    </tr>\n",
       "    <tr>\n",
       "      <th>1</th>\n",
       "      <td>Subject: hpl nom for january 9 , 2001\\n( see a...</td>\n",
       "      <td>0</td>\n",
       "    </tr>\n",
       "    <tr>\n",
       "      <th>2</th>\n",
       "      <td>Subject: neon retreat\\nho ho ho , we ' re arou...</td>\n",
       "      <td>0</td>\n",
       "    </tr>\n",
       "    <tr>\n",
       "      <th>3</th>\n",
       "      <td>Subject: photoshop , windows , office . cheap ...</td>\n",
       "      <td>1</td>\n",
       "    </tr>\n",
       "    <tr>\n",
       "      <th>4</th>\n",
       "      <td>Subject: re : indian springs\\nthis deal is to ...</td>\n",
       "      <td>0</td>\n",
       "    </tr>\n",
       "  </tbody>\n",
       "</table>\n",
       "</div>"
      ],
      "text/plain": [
       "                                                text  label_num\n",
       "0  Subject: enron methanol ; meter # : 988291\\nth...          0\n",
       "1  Subject: hpl nom for january 9 , 2001\\n( see a...          0\n",
       "2  Subject: neon retreat\\nho ho ho , we ' re arou...          0\n",
       "3  Subject: photoshop , windows , office . cheap ...          1\n",
       "4  Subject: re : indian springs\\nthis deal is to ...          0"
      ]
     },
     "execution_count": 9,
     "metadata": {},
     "output_type": "execute_result"
    }
   ],
   "source": [
    "data.head()"
   ]
  },
  {
   "cell_type": "code",
   "execution_count": 10,
   "id": "3cfad07c",
   "metadata": {},
   "outputs": [],
   "source": [
    "#Tiền xử lý văn bản\n",
    "import nltk\n",
    "import re"
   ]
  },
  {
   "cell_type": "code",
   "execution_count": 11,
   "id": "7bb49587",
   "metadata": {},
   "outputs": [],
   "source": [
    "#Thực hiện chuyển đổi các phần viết tắt thành câu đầy đủ\n",
    "def decontracted(st):\n",
    "    st = re.sub(r\"won\\'t\", \"will not\", st)\n",
    "    st = re.sub(r\"can\\'t\", \"can not\", st)\n",
    "\n",
    "    st = re.sub(r\"n\\'t\", \" not\", st)\n",
    "    st = re.sub(r\"\\'re\", \" are\", st)\n",
    "    st = re.sub(r\"\\'s\", \" is\", st)\n",
    "    st = re.sub(r\"\\'d\", \" would\", st)\n",
    "    st = re.sub(r\"\\'ll\", \" will\", st)\n",
    "    st = re.sub(r\"\\'ve\", \" have\", st)\n",
    "    st = re.sub(r\"\\'m\", \" am\", st)\n",
    "    return st"
   ]
  },
  {
   "cell_type": "code",
   "execution_count": 12,
   "id": "0a693b53",
   "metadata": {},
   "outputs": [],
   "source": [
    "#thực hiện loai bỏ các dấu câu, ký tự đặc biệt trong chuỗi\n",
    "def clear_punctuation(st):\n",
    "    word = re.sub(r'[^\\w\\s]', '',st)\n",
    "    return word"
   ]
  },
  {
   "cell_type": "code",
   "execution_count": 13,
   "id": "15bda26e",
   "metadata": {},
   "outputs": [],
   "source": [
    "#kết hợp sử dụng các hàm ở trên để xử lý chuỗi\n",
    "def clear_noise(word):\n",
    "    word = word.lower()         \n",
    "    word = decontracted(word)\n",
    "    word = clear_punctuation(word)\n",
    "    return word"
   ]
  },
  {
   "cell_type": "code",
   "execution_count": 14,
   "id": "dbb4a731",
   "metadata": {},
   "outputs": [],
   "source": [
    "#Loại bỏ các từ \n",
    "from nltk.corpus import stopwords\n",
    "stop = stopwords.words('english')"
   ]
  },
  {
   "cell_type": "code",
   "execution_count": 15,
   "id": "bdbd12f1",
   "metadata": {},
   "outputs": [
    {
     "name": "stdout",
     "output_type": "stream",
     "text": [
      "Hiển thị danh sách các stopwords trong tiếng anh:\n",
      " ['i', 'me', 'my', 'myself', 'we', 'our', 'ours', 'ourselves', 'you', \"you're\", \"you've\", \"you'll\", \"you'd\", 'your', 'yours', 'yourself', 'yourselves', 'he', 'him', 'his', 'himself', 'she', \"she's\", 'her', 'hers', 'herself', 'it', \"it's\", 'its', 'itself', 'they', 'them', 'their', 'theirs', 'themselves', 'what', 'which', 'who', 'whom', 'this', 'that', \"that'll\", 'these', 'those', 'am', 'is', 'are', 'was', 'were', 'be', 'been', 'being', 'have', 'has', 'had', 'having', 'do', 'does', 'did', 'doing', 'a', 'an', 'the', 'and', 'but', 'if', 'or', 'because', 'as', 'until', 'while', 'of', 'at', 'by', 'for', 'with', 'about', 'against', 'between', 'into', 'through', 'during', 'before', 'after', 'above', 'below', 'to', 'from', 'up', 'down', 'in', 'out', 'on', 'off', 'over', 'under', 'again', 'further', 'then', 'once', 'here', 'there', 'when', 'where', 'why', 'how', 'all', 'any', 'both', 'each', 'few', 'more', 'most', 'other', 'some', 'such', 'no', 'nor', 'not', 'only', 'own', 'same', 'so', 'than', 'too', 'very', 's', 't', 'can', 'will', 'just', 'don', \"don't\", 'should', \"should've\", 'now', 'd', 'll', 'm', 'o', 're', 've', 'y', 'ain', 'aren', \"aren't\", 'couldn', \"couldn't\", 'didn', \"didn't\", 'doesn', \"doesn't\", 'hadn', \"hadn't\", 'hasn', \"hasn't\", 'haven', \"haven't\", 'isn', \"isn't\", 'ma', 'mightn', \"mightn't\", 'mustn', \"mustn't\", 'needn', \"needn't\", 'shan', \"shan't\", 'shouldn', \"shouldn't\", 'wasn', \"wasn't\", 'weren', \"weren't\", 'won', \"won't\", 'wouldn', \"wouldn't\"]\n"
     ]
    }
   ],
   "source": [
    "#Hiển thị danh sách các stopwords trong tiếng anh\n",
    "print('Hiển thị danh sách các stopwords trong tiếng anh:\\n',stop)"
   ]
  },
  {
   "cell_type": "code",
   "execution_count": 16,
   "id": "c1cc4bec",
   "metadata": {},
   "outputs": [],
   "source": [
    "def clear_stopwords(st):\n",
    "    word = \" \".join(st for st in st.split() if st not in stop)\n",
    "    return word"
   ]
  },
  {
   "cell_type": "code",
   "execution_count": 17,
   "id": "9c95bf42",
   "metadata": {},
   "outputs": [],
   "source": [
    "#Chuẩn hóa từ (Stemming và Lemmatization)\n",
    "from nltk.stem import WordNetLemmatizer\n",
    "wn = WordNetLemmatizer()\n",
    "\n",
    "import string\n",
    "\n",
    "def fun_stemlem(word):\n",
    "    list_word_clean = []\n",
    "    for w1 in word.split(\" \"):\n",
    "        word_lemma =  wn.lemmatize(w1,  pos=\"v\")\n",
    "        list_word_clean.append(word_lemma)\n",
    "\n",
    "  #Cleaning, lowering and remove whitespaces\n",
    "    word = \" \".join(list_word_clean)\n",
    "    return word "
   ]
  },
  {
   "cell_type": "code",
   "execution_count": 18,
   "id": "05b75b01",
   "metadata": {},
   "outputs": [
    {
     "data": {
      "text/plain": [
       "\"Subject: mobil chemical - hpl meter # 1256 - expense transport\\ned - can you help ? i need to know the term of our existing transport expense\\ndeal with reliant entex to serve the referenced customer . we must have an\\nexisting contract that we can look up . our existing deal to sell to mobil\\nexpires october 1 . i am trying to make a two year sales offer beginning\\noctober 1 . if the transport expires before then , then we ' ll need to call\\nentex about a transport rate . who is the correct dealmaker to call entex on\\nthis matter ? ? i ' d be happy to do it , but i ' d be stepping on somebody else ' s\\nturf .\\nif the existing rate is indeed 5 cents plus 2 . 02 % fuel , that seems kind of\\nhigh . it ' s a short haul - according to our field folk , we give the gas to\\nentex at the la porte city gate , and it goes to the mobil plant at pasadena ,\\nabout 10 miles away at the most .\\nany and all help appreciated .\\nlee\\nenron north america corp .\\nfrom : pat clynes @ enron 09 / 06 / 2000 11 : 10 am\\nto : robert e lloyd / hou / ect @ ect\\ncc : lee l papayoti / hou / ect @ ect , lauri a allen / hou / ect @ ect , tom\\nacton / corp / enron @ enron , gary a hanks / hou / ect @ ect , daren j farmer / hou / ect @ ect ,\\njanet h wallis / hou / ect @ ect\\nsubject : re : mobil chemical\\nrobert ,\\nwhat company is this transport with ? the rate and fuel sound high for this\\nvery short transport . pat\\nrobert e lloyd @ ect\\n09 / 06 / 2000 11 : 05 am\\nto : lee l papayoti / hou / ect @ ect\\ncc : pat clynes / corp / enron @ enron , lauri a allen / hou / ect @ ect , tom\\nacton / corp / enron @ enron\\nsubject : re : mobil chemical\\ni am trying to facilitate this inquiry for tom acton who handle this expense\\nagreement . hpl system indicate a rate as follows :\\ntransmission rate : $ 0 . 05\\nfuel { expressed in % } : 2 . 020\\nwillie underwood { marketer / trader w / reliant energy } is prepared to quote you\\na more current rate by simply calling him @ :\\n713 207 - 5127 .\\ni am unable to reach lee by phone .\\nenron north america corp .\\nfrom : pat clynes @ enron 09 / 06 / 2000 10 : 44 am\\nto : robert e lloyd / hou / ect @ ect\\ncc : lee l papayoti / hou / ect @ ect , lauri a allen / hou / ect @ ect\\nsubject : mobil chemical\\nrobert ,\\nplease get with lee papayoti as soon as possible in reference to the delivery\\nto mobil chemical # 1256 .\\nhe is giving them an offer today and he needs to verify all transport cost\\nassociated with the deal . thanks\""
      ]
     },
     "execution_count": 18,
     "metadata": {},
     "output_type": "execute_result"
    }
   ],
   "source": [
    "#Ví dụ một comment trong data:\n",
    "st1 = data.iloc[2000]['text']\n",
    "st1"
   ]
  },
  {
   "cell_type": "code",
   "execution_count": 19,
   "id": "9fb43d27",
   "metadata": {},
   "outputs": [
    {
     "name": "stdout",
     "output_type": "stream",
     "text": [
      "1.----------Chuỗi ban đầu------------------------:\n",
      "  Subject: mobil chemical - hpl meter # 1256 - expense transport\n",
      "ed - can you help ? i need to know the term of our existing transport expense\n",
      "deal with reliant entex to serve the referenced customer . we must have an\n",
      "existing contract that we can look up . our existing deal to sell to mobil\n",
      "expires october 1 . i am trying to make a two year sales offer beginning\n",
      "october 1 . if the transport expires before then , then we ' ll need to call\n",
      "entex about a transport rate . who is the correct dealmaker to call entex on\n",
      "this matter ? ? i ' d be happy to do it , but i ' d be stepping on somebody else ' s\n",
      "turf .\n",
      "if the existing rate is indeed 5 cents plus 2 . 02 % fuel , that seems kind of\n",
      "high . it ' s a short haul - according to our field folk , we give the gas to\n",
      "entex at the la porte city gate , and it goes to the mobil plant at pasadena ,\n",
      "about 10 miles away at the most .\n",
      "any and all help appreciated .\n",
      "lee\n",
      "enron north america corp .\n",
      "from : pat clynes @ enron 09 / 06 / 2000 11 : 10 am\n",
      "to : robert e lloyd / hou / ect @ ect\n",
      "cc : lee l papayoti / hou / ect @ ect , lauri a allen / hou / ect @ ect , tom\n",
      "acton / corp / enron @ enron , gary a hanks / hou / ect @ ect , daren j farmer / hou / ect @ ect ,\n",
      "janet h wallis / hou / ect @ ect\n",
      "subject : re : mobil chemical\n",
      "robert ,\n",
      "what company is this transport with ? the rate and fuel sound high for this\n",
      "very short transport . pat\n",
      "robert e lloyd @ ect\n",
      "09 / 06 / 2000 11 : 05 am\n",
      "to : lee l papayoti / hou / ect @ ect\n",
      "cc : pat clynes / corp / enron @ enron , lauri a allen / hou / ect @ ect , tom\n",
      "acton / corp / enron @ enron\n",
      "subject : re : mobil chemical\n",
      "i am trying to facilitate this inquiry for tom acton who handle this expense\n",
      "agreement . hpl system indicate a rate as follows :\n",
      "transmission rate : $ 0 . 05\n",
      "fuel { expressed in % } : 2 . 020\n",
      "willie underwood { marketer / trader w / reliant energy } is prepared to quote you\n",
      "a more current rate by simply calling him @ :\n",
      "713 207 - 5127 .\n",
      "i am unable to reach lee by phone .\n",
      "enron north america corp .\n",
      "from : pat clynes @ enron 09 / 06 / 2000 10 : 44 am\n",
      "to : robert e lloyd / hou / ect @ ect\n",
      "cc : lee l papayoti / hou / ect @ ect , lauri a allen / hou / ect @ ect\n",
      "subject : mobil chemical\n",
      "robert ,\n",
      "please get with lee papayoti as soon as possible in reference to the delivery\n",
      "to mobil chemical # 1256 .\n",
      "he is giving them an offer today and he needs to verify all transport cost\n",
      "associated with the deal . thanks\n",
      "\n",
      " 2.----------Chuỗi loại bỏ nhiễu:-----------------:\n",
      " subject mobil chemical  hpl meter  1256  expense transport\n",
      "ed  can you help  i need to know the term of our existing transport expense\n",
      "deal with reliant entex to serve the referenced customer  we must have an\n",
      "existing contract that we can look up  our existing deal to sell to mobil\n",
      "expires october 1  i am trying to make a two year sales offer beginning\n",
      "october 1  if the transport expires before then  then we  ll need to call\n",
      "entex about a transport rate  who is the correct dealmaker to call entex on\n",
      "this matter   i  d be happy to do it  but i  d be stepping on somebody else  s\n",
      "turf \n",
      "if the existing rate is indeed 5 cents plus 2  02  fuel  that seems kind of\n",
      "high  it  s a short haul  according to our field folk  we give the gas to\n",
      "entex at the la porte city gate  and it goes to the mobil plant at pasadena \n",
      "about 10 miles away at the most \n",
      "any and all help appreciated \n",
      "lee\n",
      "enron north america corp \n",
      "from  pat clynes  enron 09  06  2000 11  10 am\n",
      "to  robert e lloyd  hou  ect  ect\n",
      "cc  lee l papayoti  hou  ect  ect  lauri a allen  hou  ect  ect  tom\n",
      "acton  corp  enron  enron  gary a hanks  hou  ect  ect  daren j farmer  hou  ect  ect \n",
      "janet h wallis  hou  ect  ect\n",
      "subject  re  mobil chemical\n",
      "robert \n",
      "what company is this transport with  the rate and fuel sound high for this\n",
      "very short transport  pat\n",
      "robert e lloyd  ect\n",
      "09  06  2000 11  05 am\n",
      "to  lee l papayoti  hou  ect  ect\n",
      "cc  pat clynes  corp  enron  enron  lauri a allen  hou  ect  ect  tom\n",
      "acton  corp  enron  enron\n",
      "subject  re  mobil chemical\n",
      "i am trying to facilitate this inquiry for tom acton who handle this expense\n",
      "agreement  hpl system indicate a rate as follows \n",
      "transmission rate   0  05\n",
      "fuel  expressed in    2  020\n",
      "willie underwood  marketer  trader w  reliant energy  is prepared to quote you\n",
      "a more current rate by simply calling him  \n",
      "713 207  5127 \n",
      "i am unable to reach lee by phone \n",
      "enron north america corp \n",
      "from  pat clynes  enron 09  06  2000 10  44 am\n",
      "to  robert e lloyd  hou  ect  ect\n",
      "cc  lee l papayoti  hou  ect  ect  lauri a allen  hou  ect  ect\n",
      "subject  mobil chemical\n",
      "robert \n",
      "please get with lee papayoti as soon as possible in reference to the delivery\n",
      "to mobil chemical  1256 \n",
      "he is giving them an offer today and he needs to verify all transport cost\n",
      "associated with the deal  thanks\n",
      "\n",
      " 3.----------Chuỗi loại bỏ stopwords--------------:\n",
      " subject mobil chemical hpl meter 1256 expense transport ed help need know term existing transport expense deal reliant entex serve referenced customer must existing contract look existing deal sell mobil expires october 1 trying make two year sales offer beginning october 1 transport expires need call entex transport rate correct dealmaker call entex matter happy stepping somebody else turf existing rate indeed 5 cents plus 2 02 fuel seems kind high short haul according field folk give gas entex la porte city gate goes mobil plant pasadena 10 miles away help appreciated lee enron north america corp pat clynes enron 09 06 2000 11 10 robert e lloyd hou ect ect cc lee l papayoti hou ect ect lauri allen hou ect ect tom acton corp enron enron gary hanks hou ect ect daren j farmer hou ect ect janet h wallis hou ect ect subject mobil chemical robert company transport rate fuel sound high short transport pat robert e lloyd ect 09 06 2000 11 05 lee l papayoti hou ect ect cc pat clynes corp enron enron lauri allen hou ect ect tom acton corp enron enron subject mobil chemical trying facilitate inquiry tom acton handle expense agreement hpl system indicate rate follows transmission rate 0 05 fuel expressed 2 020 willie underwood marketer trader w reliant energy prepared quote current rate simply calling 713 207 5127 unable reach lee phone enron north america corp pat clynes enron 09 06 2000 10 44 robert e lloyd hou ect ect cc lee l papayoti hou ect ect lauri allen hou ect ect subject mobil chemical robert please get lee papayoti soon possible reference delivery mobil chemical 1256 giving offer today needs verify transport cost associated deal thanks\n",
      "\n",
      " 4.--Chuỗi loại xử lý Stemming và Lemmatization---:\n",
      " subject mobil chemical hpl meter 1256 expense transport ed help need know term exist transport expense deal reliant entex serve reference customer must exist contract look exist deal sell mobil expire october 1 try make two year sales offer begin october 1 transport expire need call entex transport rate correct dealmaker call entex matter happy step somebody else turf exist rate indeed 5 cents plus 2 02 fuel seem kind high short haul accord field folk give gas entex la porte city gate go mobil plant pasadena 10 miles away help appreciate lee enron north america corp pat clynes enron 09 06 2000 11 10 robert e lloyd hou ect ect cc lee l papayoti hou ect ect lauri allen hou ect ect tom acton corp enron enron gary hanks hou ect ect daren j farmer hou ect ect janet h wallis hou ect ect subject mobil chemical robert company transport rate fuel sound high short transport pat robert e lloyd ect 09 06 2000 11 05 lee l papayoti hou ect ect cc pat clynes corp enron enron lauri allen hou ect ect tom acton corp enron enron subject mobil chemical try facilitate inquiry tom acton handle expense agreement hpl system indicate rate follow transmission rate 0 05 fuel express 2 020 willie underwood marketer trader w reliant energy prepare quote current rate simply call 713 207 5127 unable reach lee phone enron north america corp pat clynes enron 09 06 2000 10 44 robert e lloyd hou ect ect cc lee l papayoti hou ect ect lauri allen hou ect ect subject mobil chemical robert please get lee papayoti soon possible reference delivery mobil chemical 1256 give offer today need verify transport cost associate deal thank\n"
     ]
    }
   ],
   "source": [
    "print('1.----------Chuỗi ban đầu------------------------:\\n ', st1)\n",
    "sta = clear_noise(st1)\n",
    "print('\\n 2.----------Chuỗi loại bỏ nhiễu:-----------------:\\n',sta)\n",
    "stb = clear_stopwords(sta)\n",
    "print('\\n 3.----------Chuỗi loại bỏ stopwords--------------:\\n',stb)\n",
    "stc = fun_stemlem(stb)\n",
    "print('\\n 4.--Chuỗi loại xử lý Stemming và Lemmatization---:\\n',stc) "
   ]
  },
  {
   "cell_type": "markdown",
   "id": "6e5c2fd9",
   "metadata": {},
   "source": [
    "### Tiền Xử lý toàn bộ tập dữ liệu với các hàm đã xây dựng\n",
    "\n"
   ]
  },
  {
   "cell_type": "code",
   "execution_count": 20,
   "id": "8a23d49f",
   "metadata": {},
   "outputs": [],
   "source": [
    "#Xây dựng hàm prepare_data: để thực hiện tiền xử lý dữ liệu\n",
    "def prepare_data(word):\n",
    "    word = clear_noise(word)       \n",
    "    word = clear_stopwords(word)    \n",
    "    word = fun_stemlem(word)        \n",
    "    return word"
   ]
  },
  {
   "cell_type": "code",
   "execution_count": 21,
   "id": "2b5ba13d",
   "metadata": {},
   "outputs": [],
   "source": [
    "data_new = data.copy()\n",
    "data_new['text_ok'] = data['text'].apply(lambda x: prepare_data(x))"
   ]
  },
  {
   "cell_type": "code",
   "execution_count": 22,
   "id": "2d0add30",
   "metadata": {},
   "outputs": [
    {
     "data": {
      "text/html": [
       "<div>\n",
       "<style scoped>\n",
       "    .dataframe tbody tr th:only-of-type {\n",
       "        vertical-align: middle;\n",
       "    }\n",
       "\n",
       "    .dataframe tbody tr th {\n",
       "        vertical-align: top;\n",
       "    }\n",
       "\n",
       "    .dataframe thead th {\n",
       "        text-align: right;\n",
       "    }\n",
       "</style>\n",
       "<table border=\"1\" class=\"dataframe\">\n",
       "  <thead>\n",
       "    <tr style=\"text-align: right;\">\n",
       "      <th></th>\n",
       "      <th>text</th>\n",
       "      <th>label_num</th>\n",
       "      <th>text_ok</th>\n",
       "    </tr>\n",
       "  </thead>\n",
       "  <tbody>\n",
       "    <tr>\n",
       "      <th>0</th>\n",
       "      <td>Subject: enron methanol ; meter # : 988291\\nth...</td>\n",
       "      <td>0</td>\n",
       "      <td>subject enron methanol meter 988291 follow not...</td>\n",
       "    </tr>\n",
       "    <tr>\n",
       "      <th>1</th>\n",
       "      <td>Subject: hpl nom for january 9 , 2001\\n( see a...</td>\n",
       "      <td>0</td>\n",
       "      <td>subject hpl nom january 9 2001 see attach file...</td>\n",
       "    </tr>\n",
       "    <tr>\n",
       "      <th>2</th>\n",
       "      <td>Subject: neon retreat\\nho ho ho , we ' re arou...</td>\n",
       "      <td>0</td>\n",
       "      <td>subject neon retreat ho ho ho around wonderful...</td>\n",
       "    </tr>\n",
       "    <tr>\n",
       "      <th>3</th>\n",
       "      <td>Subject: photoshop , windows , office . cheap ...</td>\n",
       "      <td>1</td>\n",
       "      <td>subject photoshop windows office cheap main tr...</td>\n",
       "    </tr>\n",
       "    <tr>\n",
       "      <th>4</th>\n",
       "      <td>Subject: re : indian springs\\nthis deal is to ...</td>\n",
       "      <td>0</td>\n",
       "      <td>subject indian spring deal book teco pvr reven...</td>\n",
       "    </tr>\n",
       "  </tbody>\n",
       "</table>\n",
       "</div>"
      ],
      "text/plain": [
       "                                                text  label_num  \\\n",
       "0  Subject: enron methanol ; meter # : 988291\\nth...          0   \n",
       "1  Subject: hpl nom for january 9 , 2001\\n( see a...          0   \n",
       "2  Subject: neon retreat\\nho ho ho , we ' re arou...          0   \n",
       "3  Subject: photoshop , windows , office . cheap ...          1   \n",
       "4  Subject: re : indian springs\\nthis deal is to ...          0   \n",
       "\n",
       "                                             text_ok  \n",
       "0  subject enron methanol meter 988291 follow not...  \n",
       "1  subject hpl nom january 9 2001 see attach file...  \n",
       "2  subject neon retreat ho ho ho around wonderful...  \n",
       "3  subject photoshop windows office cheap main tr...  \n",
       "4  subject indian spring deal book teco pvr reven...  "
      ]
     },
     "execution_count": 22,
     "metadata": {},
     "output_type": "execute_result"
    }
   ],
   "source": [
    "data_new.head()"
   ]
  },
  {
   "cell_type": "code",
   "execution_count": 23,
   "id": "2e82929c",
   "metadata": {},
   "outputs": [
    {
     "name": "stdout",
     "output_type": "stream",
     "text": [
      "<class 'pandas.core.frame.DataFrame'>\n",
      "RangeIndex: 5171 entries, 0 to 5170\n",
      "Data columns (total 3 columns):\n",
      " #   Column     Non-Null Count  Dtype \n",
      "---  ------     --------------  ----- \n",
      " 0   text       5171 non-null   object\n",
      " 1   label_num  5171 non-null   int64 \n",
      " 2   text_ok    5171 non-null   object\n",
      "dtypes: int64(1), object(2)\n",
      "memory usage: 121.3+ KB\n"
     ]
    }
   ],
   "source": [
    "data_new.info()"
   ]
  },
  {
   "cell_type": "markdown",
   "id": "06d16d83",
   "metadata": {},
   "source": [
    "### Kiểm tra mức độ cân bằng của tập dữ liệu"
   ]
  },
  {
   "cell_type": "code",
   "execution_count": 24,
   "id": "75e0464c",
   "metadata": {},
   "outputs": [
    {
     "name": "stdout",
     "output_type": "stream",
     "text": [
      "label_num\n",
      "0    3672\n",
      "1    1499\n",
      "Name: count, dtype: int64\n"
     ]
    }
   ],
   "source": [
    "x = data_new['label_num'].value_counts()\n",
    "print(x)"
   ]
  },
  {
   "cell_type": "code",
   "execution_count": 25,
   "id": "5a3f62b2",
   "metadata": {},
   "outputs": [
    {
     "data": {
      "image/png": "[encoded data removed]",
      "text/plain": [
       "<Figure size 1200x400 with 2 Axes>"
      ]
     },
     "metadata": {},
     "output_type": "display_data"
    }
   ],
   "source": [
    "label = [\"0:non-spam\", \"1:spam\"]\n",
    "\n",
    "plt.figure(figsize=(12,4))\n",
    "plt.subplot(1,2,1)\n",
    "plt.suptitle(\"Thống Kê số lượng SPAM - NON SPAM\")\n",
    "plt.bar(label,x, color=['#1E77B4','#FF7F0F'])\n",
    "plt.grid()\n",
    "\n",
    "plt.subplot(1,2,2)\n",
    "plt.pie(x, labels=label, autopct='%.2f%%', colors=['#1E77B4','#FF7F0F'])\n",
    "\n",
    "plt.show()\n",
    "#Tập dữ liệu mất cân bằng nhẹ"
   ]
  },
  {
   "cell_type": "code",
   "execution_count": 26,
   "id": "491cc2c5",
   "metadata": {},
   "outputs": [],
   "source": [
    "#Lưu trữ dữ liệu đã xử lý\n",
    "data_new.to_csv('Data_all.csv', index=None, header=True)\n",
    "\n",
    "#Chỉ lưu trữ 2 thuộc tính text_ok, label_num\n",
    "data_new[['text_ok','label_num']].to_csv('Data_finish.csv', index=None, header=True)\n"
   ]
  },
  {
   "cell_type": "markdown",
   "id": "2b04795a",
   "metadata": {},
   "source": [
    "### Phân tách Biến độc - Biến phụ thuộc"
   ]
  },
  {
   "cell_type": "code",
   "execution_count": 27,
   "id": "6006c900",
   "metadata": {},
   "outputs": [
    {
     "data": {
      "text/html": [
       "<div>\n",
       "<style scoped>\n",
       "    .dataframe tbody tr th:only-of-type {\n",
       "        vertical-align: middle;\n",
       "    }\n",
       "\n",
       "    .dataframe tbody tr th {\n",
       "        vertical-align: top;\n",
       "    }\n",
       "\n",
       "    .dataframe thead th {\n",
       "        text-align: right;\n",
       "    }\n",
       "</style>\n",
       "<table border=\"1\" class=\"dataframe\">\n",
       "  <thead>\n",
       "    <tr style=\"text-align: right;\">\n",
       "      <th></th>\n",
       "      <th>text_ok</th>\n",
       "      <th>label_num</th>\n",
       "    </tr>\n",
       "  </thead>\n",
       "  <tbody>\n",
       "    <tr>\n",
       "      <th>0</th>\n",
       "      <td>subject enron methanol meter 988291 follow not...</td>\n",
       "      <td>0</td>\n",
       "    </tr>\n",
       "    <tr>\n",
       "      <th>1</th>\n",
       "      <td>subject hpl nom january 9 2001 see attach file...</td>\n",
       "      <td>0</td>\n",
       "    </tr>\n",
       "    <tr>\n",
       "      <th>2</th>\n",
       "      <td>subject neon retreat ho ho ho around wonderful...</td>\n",
       "      <td>0</td>\n",
       "    </tr>\n",
       "    <tr>\n",
       "      <th>3</th>\n",
       "      <td>subject photoshop windows office cheap main tr...</td>\n",
       "      <td>1</td>\n",
       "    </tr>\n",
       "    <tr>\n",
       "      <th>4</th>\n",
       "      <td>subject indian spring deal book teco pvr reven...</td>\n",
       "      <td>0</td>\n",
       "    </tr>\n",
       "    <tr>\n",
       "      <th>5</th>\n",
       "      <td>subject ehronline web address change message i...</td>\n",
       "      <td>0</td>\n",
       "    </tr>\n",
       "    <tr>\n",
       "      <th>6</th>\n",
       "      <td>subject spring save certificate take 30 save 3...</td>\n",
       "      <td>0</td>\n",
       "    </tr>\n",
       "    <tr>\n",
       "      <th>7</th>\n",
       "      <td>subject look medication best source difficult ...</td>\n",
       "      <td>1</td>\n",
       "    </tr>\n",
       "    <tr>\n",
       "      <th>8</th>\n",
       "      <td>subject noms actual flow 2 26 agree forward me...</td>\n",
       "      <td>0</td>\n",
       "    </tr>\n",
       "    <tr>\n",
       "      <th>9</th>\n",
       "      <td>subject nominations oct 21 23 2000 see attach ...</td>\n",
       "      <td>0</td>\n",
       "    </tr>\n",
       "  </tbody>\n",
       "</table>\n",
       "</div>"
      ],
      "text/plain": [
       "                                             text_ok  label_num\n",
       "0  subject enron methanol meter 988291 follow not...          0\n",
       "1  subject hpl nom january 9 2001 see attach file...          0\n",
       "2  subject neon retreat ho ho ho around wonderful...          0\n",
       "3  subject photoshop windows office cheap main tr...          1\n",
       "4  subject indian spring deal book teco pvr reven...          0\n",
       "5  subject ehronline web address change message i...          0\n",
       "6  subject spring save certificate take 30 save 3...          0\n",
       "7  subject look medication best source difficult ...          1\n",
       "8  subject noms actual flow 2 26 agree forward me...          0\n",
       "9  subject nominations oct 21 23 2000 see attach ...          0"
      ]
     },
     "execution_count": 27,
     "metadata": {},
     "output_type": "execute_result"
    }
   ],
   "source": [
    "import pandas as pd\n",
    "data_finish = pd.read_csv('Data_finish.csv')\n",
    "data_finish.head(10)"
   ]
  },
  {
   "cell_type": "code",
   "execution_count": 28,
   "id": "c2903858",
   "metadata": {},
   "outputs": [
    {
     "data": {
      "text/plain": [
       "0       subject enron methanol meter 988291 follow not...\n",
       "1       subject hpl nom january 9 2001 see attach file...\n",
       "2       subject neon retreat ho ho ho around wonderful...\n",
       "3       subject photoshop windows office cheap main tr...\n",
       "4       subject indian spring deal book teco pvr reven...\n",
       "                              ...                        \n",
       "5166    subject put 10 ft transport volumes decrease 2...\n",
       "5167    subject 3 4 2000 follow noms hpl take extra 15...\n",
       "5168    subject calpine daily gas nomination julie men...\n",
       "5169    subject industrial worksheets august 2000 acti...\n",
       "5170    subject important online bank alert dear value...\n",
       "Name: text_ok, Length: 5171, dtype: object"
      ]
     },
     "execution_count": 28,
     "metadata": {},
     "output_type": "execute_result"
    }
   ],
   "source": [
    "#Biến độc lập X\n",
    "X = data_finish.loc[:,'text_ok']\n",
    "X"
   ]
  },
  {
   "cell_type": "code",
   "execution_count": 29,
   "id": "ed647d2d",
   "metadata": {},
   "outputs": [
    {
     "data": {
      "text/plain": [
       "0       0\n",
       "1       0\n",
       "2       0\n",
       "3       1\n",
       "4       0\n",
       "       ..\n",
       "5166    0\n",
       "5167    0\n",
       "5168    0\n",
       "5169    0\n",
       "5170    1\n",
       "Name: label_num, Length: 5171, dtype: int64"
      ]
     },
     "execution_count": 29,
     "metadata": {},
     "output_type": "execute_result"
    }
   ],
   "source": [
    "#Biến phụ thuộc y\n",
    "y = data_finish.loc[:,'label_num']\n",
    "y"
   ]
  },
  {
   "cell_type": "code",
   "execution_count": 30,
   "id": "627263a1",
   "metadata": {},
   "outputs": [
    {
     "name": "stdout",
     "output_type": "stream",
     "text": [
      "1.Tập ban đầu: (5171, 2)\n",
      "-------------------------------\n",
      "a.Tập Train:  (4136,)\n",
      "b.Tập Test:  (1035,)\n"
     ]
    }
   ],
   "source": [
    "#Tách dữ liệu thành tập Train - Test\n",
    "from sklearn.model_selection import train_test_split\n",
    "\n",
    "X_train, X_test, y_train, y_test = train_test_split(X, y, test_size=0.2, shuffle=True, random_state=42)\n",
    "\n",
    "print('1.Tập ban đầu:',data_finish.shape)\n",
    "print('-------------------------------')\n",
    "print('a.Tập Train: ', X_train.shape)\n",
    "print('b.Tập Test: ', y_test.shape)"
   ]
  },
  {
   "cell_type": "markdown",
   "id": "20da9d62",
   "metadata": {},
   "source": [
    "### Embedding TẬP DỮ LIỆU ĐÃ XỬ LÝ"
   ]
  },
  {
   "cell_type": "code",
   "execution_count": 31,
   "id": "ce291d0b",
   "metadata": {},
   "outputs": [],
   "source": [
    "# Tính TF-IDF cho tập dữ liệu\n",
    "from sklearn.feature_extraction.text import TfidfVectorizer\n",
    "import sklearn.feature_extraction.text as text\n",
    "\n",
    "vector = TfidfVectorizer()\n",
    "vector.fit(data_finish['text_ok'])\n",
    "\n",
    "#Chuyển đổi tập Train - Test ra số:\n",
    "X_train_tfidf = vector.transform(X_train)\n",
    "X_test_tfidf = vector.transform(X_test)"
   ]
  },
  {
   "cell_type": "code",
   "execution_count": 32,
   "id": "8bbc200d",
   "metadata": {},
   "outputs": [
    {
     "name": "stdout",
     "output_type": "stream",
     "text": [
      "1.Train: (4136, 46692)\n",
      "2.Test: (1035, 46692)\n"
     ]
    }
   ],
   "source": [
    "#Dữ liệu sau khi chuyển sang số với TF-IDF:\n",
    "print('1.Train:',X_train_tfidf.shape)\n",
    "print('2.Test:',X_test_tfidf.shape)"
   ]
  },
  {
   "cell_type": "code",
   "execution_count": 33,
   "id": "146d94b6",
   "metadata": {},
   "outputs": [
    {
     "name": "stdout",
     "output_type": "stream",
     "text": [
      "subject ena organizational change ena first quarter performance outstanding achieve exceptional talent hard work ena employees ena ability quickly move people new business venture market opportunities enron net work reinforce depth talent ena continue commitment encourage innovation creativity things enthusiasm support people pursue new ideas accordingly follow recently announce launch enron net work associate personnel movements please announce follow change within ena effective immediately john lavorato relocate calgary houston oversee ena risk management trade activities report office chairman john direct responsibility natural gas power emissions equities rat trade well john direct responsibility risk management trade function within pulp paper coal global risk weather insurance businesses otherwise pulp paper coal global risk businesses report office chairman follow john departure canada ask rob milnthorp president enron canada follow departure greg piper industrial origination team co head jim ajello rodney malcolm edward ondarza report office chairman jim rodney edward work team ensure continue growth ena large industrial capability notwithstanding joint accountability distinct focus responsibility within industrial group jim ajello focus coverage market efforts industrial segment except pulp paper edward ondarza focus market make coverage market efforts pulp paper industry rodney malcolm focus product development structure execution function industrial segment ask jeff donahue oversee ena corporate development principal invest activities report office chairman corporate development continue seek strategic acquisition opportunities exist new businesses principal invest group continue focus equity venture capital syle investments high growth business line directly relate ena core businesses significantly influence trend relate business give change ray bowen solely responsible management ena commercial transactions ctg group departure ron slimp ebs scott tholan manage competitive analysis report group report john lavorato please join us congratulate individuals new roles responsibilities\n",
      "[0.09251852 0.09094412 0.02668049 0.04432984 0.08675597 0.02175021\n",
      " 0.04927083 0.03951729 0.08359643 0.06314196 0.0340157  0.06174088\n",
      " 0.10484074 0.06314196 0.03177293 0.00712835 0.0403407  0.04747938\n",
      " 0.04788682 0.06314196 0.04747938 0.09755806 0.0373064  0.03633082\n",
      " 0.04927083 0.05166933 0.15726112 0.04831898 0.12984435 0.04048769\n",
      " 0.12702922 0.04513769 0.16541052 0.05242037 0.06815171 0.05531067\n",
      " 0.03951729 0.04063776 0.0340157  0.04005553 0.04079107 0.04831898\n",
      " 0.20968149 0.0323654  0.10197984 0.0386633  0.03389689 0.02848848\n",
      " 0.05325997 0.04294583 0.03425943 0.05979869 0.16078677 0.11322064\n",
      " 0.03877922 0.04079107 0.04542868 0.04831898 0.07983423 0.11322064\n",
      " 0.11399811 0.05531067 0.08368536 0.05573096 0.03255807 0.06025166\n",
      " 0.02966778 0.06025166 0.11238675 0.08704516 0.03592798 0.10842366\n",
      " 0.02163326 0.02740069 0.10484074 0.04196781 0.03585007 0.04542868\n",
      " 0.0371188  0.16088902 0.1124972  0.03667033 0.04337798 0.07480416\n",
      " 0.04638054 0.05661032 0.05098992 0.03702682 0.19758644 0.0427392\n",
      " 0.03624841 0.04063776 0.0281491  0.02904482 0.03425943 0.03592798\n",
      " 0.07480416 0.11249139 0.04094774 0.06756006 0.02467812 0.01792684\n",
      " 0.08767607 0.08473505 0.19758644 0.02626473 0.03693601 0.0497991\n",
      " 0.05325997 0.04094774 0.04143954 0.05820096 0.05820096 0.03577301\n",
      " 0.04838944 0.0440797  0.3274271  0.03649855 0.05820096 0.08097537\n",
      " 0.02618441 0.10949565 0.05242037 0.05661032 0.06025166 0.03600675\n",
      " 0.06602324 0.10924257 0.04927083 0.15500798 0.06025166 0.05820096\n",
      " 0.09209786 0.07983423 0.04638054 0.11932964 0.04638054 0.04542868\n",
      " 0.04672833 0.0352557  0.10073935 0.03204028 0.06421491 0.17943243\n",
      " 0.03633082 0.04927083 0.07008999 0.05325997 0.16379096 0.083979\n",
      " 0.04542868 0.03624841 0.05876138 0.07233388 0.04161132 0.11322064\n",
      " 0.08039339 0.04315863 0.04294583 0.05820096 0.04458908 0.0377982 ]\n",
      "(162,)\n"
     ]
    }
   ],
   "source": [
    "print(X_train.iloc[20])\n",
    "print(X_train_tfidf[20].data)\n",
    "print(X_train_tfidf[20].data.shape)"
   ]
  },
  {
   "cell_type": "markdown",
   "id": "62ca616c",
   "metadata": {},
   "source": [
    "### MACHINE LEARNING CHO PHÂN LỚP MAIL SPAM"
   ]
  },
  {
   "cell_type": "code",
   "execution_count": 34,
   "id": "31708d3f",
   "metadata": {},
   "outputs": [
    {
     "data": {
      "text/plain": [
       "{'alpha': 0.75, 'class_prior': None, 'fit_prior': True, 'force_alpha': 'warn'}"
      ]
     },
     "execution_count": 34,
     "metadata": {},
     "output_type": "execute_result"
    }
   ],
   "source": [
    "#Sử dụng mô hình Naive Bayes với TF-IDF\n",
    "from sklearn import naive_bayes\n",
    "\n",
    "#Khai báo sử dụng model Multinomial Naive bayes:\n",
    "MultiNB = naive_bayes.MultinomialNB(alpha=0.75)\n",
    "\n",
    "#huấn luyện mô hình với tập huấn luyện Train\n",
    "MultiNB.fit(X_train_tfidf,y_train)\n",
    "\n",
    "#Danh sách các tham số của model:\n",
    "MultiNB.get_params()"
   ]
  },
  {
   "cell_type": "code",
   "execution_count": 35,
   "id": "609f7d11",
   "metadata": {},
   "outputs": [
    {
     "name": "stdout",
     "output_type": "stream",
     "text": [
      "Độ chính xác của mô hình trên tập huấn luyện:  97.0 %\n"
     ]
    }
   ],
   "source": [
    "#Đánh giá độ chính xác của mô hình trên tập huấn luyện\n",
    "acc_MultiNB = round(MultiNB.score(X_train_tfidf, y_train) * 100, 2)\n",
    "\n",
    "print('Độ chính xác của mô hình trên tập huấn luyện: ', acc_MultiNB, '%')"
   ]
  },
  {
   "cell_type": "code",
   "execution_count": 36,
   "id": "b0d899ad",
   "metadata": {},
   "outputs": [
    {
     "name": "stdout",
     "output_type": "stream",
     "text": [
      "1.Độ chính xác của mô hình trên tập Test:  93.53 %\n",
      "2.Tổng số mẫu dự đoán đúng: 968  / 1035\n",
      "3.Tổng số mẫu dự đoán sai: 67  / 1035\n"
     ]
    }
   ],
   "source": [
    "from sklearn.metrics import accuracy_score\n",
    "#Dự đoán và tính đoán độ chính xác của model trên tập Test:\n",
    "y_pred = MultiNB.predict(X_test_tfidf)\n",
    "\n",
    "acc1 = round(accuracy_score(y_test, y_pred)*100, 2)\n",
    "print('1.Độ chính xác của mô hình trên tập Test: ', acc1, '%')\n",
    "\n",
    "acc2 = accuracy_score(y_test, y_pred, normalize=False)\n",
    "print('2.Tổng số mẫu dự đoán đúng:', acc2, ' /', len(y_test))\n",
    "print('3.Tổng số mẫu dự đoán sai:', len(y_test) - acc2, ' /', len(y_test))"
   ]
  },
  {
   "cell_type": "code",
   "execution_count": 37,
   "id": "ebd1f000",
   "metadata": {},
   "outputs": [
    {
     "data": {
      "image/png": "[encoded data removed]",
      "text/plain": [
       "<Figure size 640x480 with 2 Axes>"
      ]
     },
     "metadata": {},
     "output_type": "display_data"
    }
   ],
   "source": [
    "#Hiển thị confusion matrix:\n",
    "from sklearn.metrics import confusion_matrix, ConfusionMatrixDisplay\n",
    "\n",
    "#Hiển thị dạng số:\n",
    "cm = confusion_matrix(y_test, y_pred, labels=MultiNB.classes_)\n",
    "disp = ConfusionMatrixDisplay(confusion_matrix=cm, display_labels=MultiNB.classes_)\n",
    "disp.plot()\n",
    "plt.show()"
   ]
  },
  {
   "cell_type": "code",
   "execution_count": 38,
   "id": "4d86b924",
   "metadata": {},
   "outputs": [
    {
     "data": {
      "text/html": [
       "<style>#sk-container-id-1 {color: black;}#sk-container-id-1 pre{padding: 0;}#sk-container-id-1 div.sk-toggleable {background-color: white;}#sk-container-id-1 label.sk-toggleable__label {cursor: pointer;display: block;width: 100%;margin-bottom: 0;padding: 0.3em;box-sizing: border-box;text-align: center;}#sk-container-id-1 label.sk-toggleable__label-arrow:before {content: \"▸\";float: left;margin-right: 0.25em;color: #696969;}#sk-container-id-1 label.sk-toggleable__label-arrow:hover:before {color: black;}#sk-container-id-1 div.sk-estimator:hover label.sk-toggleable__label-arrow:before {color: black;}#sk-container-id-1 div.sk-toggleable__content {max-height: 0;max-width: 0;overflow: hidden;text-align: left;background-color: #f0f8ff;}#sk-container-id-1 div.sk-toggleable__content pre {margin: 0.2em;color: black;border-radius: 0.25em;background-color: #f0f8ff;}#sk-container-id-1 input.sk-toggleable__control:checked~div.sk-toggleable__content {max-height: 200px;max-width: 100%;overflow: auto;}#sk-container-id-1 input.sk-toggleable__control:checked~label.sk-toggleable__label-arrow:before {content: \"▾\";}#sk-container-id-1 div.sk-estimator input.sk-toggleable__control:checked~label.sk-toggleable__label {background-color: #d4ebff;}#sk-container-id-1 div.sk-label input.sk-toggleable__control:checked~label.sk-toggleable__label {background-color: #d4ebff;}#sk-container-id-1 input.sk-hidden--visually {border: 0;clip: rect(1px 1px 1px 1px);clip: rect(1px, 1px, 1px, 1px);height: 1px;margin: -1px;overflow: hidden;padding: 0;position: absolute;width: 1px;}#sk-container-id-1 div.sk-estimator {font-family: monospace;background-color: #f0f8ff;border: 1px dotted black;border-radius: 0.25em;box-sizing: border-box;margin-bottom: 0.5em;}#sk-container-id-1 div.sk-estimator:hover {background-color: #d4ebff;}#sk-container-id-1 div.sk-parallel-item::after {content: \"\";width: 100%;border-bottom: 1px solid gray;flex-grow: 1;}#sk-container-id-1 div.sk-label:hover label.sk-toggleable__label {background-color: #d4ebff;}#sk-container-id-1 div.sk-serial::before {content: \"\";position: absolute;border-left: 1px solid gray;box-sizing: border-box;top: 0;bottom: 0;left: 50%;z-index: 0;}#sk-container-id-1 div.sk-serial {display: flex;flex-direction: column;align-items: center;background-color: white;padding-right: 0.2em;padding-left: 0.2em;position: relative;}#sk-container-id-1 div.sk-item {position: relative;z-index: 1;}#sk-container-id-1 div.sk-parallel {display: flex;align-items: stretch;justify-content: center;background-color: white;position: relative;}#sk-container-id-1 div.sk-item::before, #sk-container-id-1 div.sk-parallel-item::before {content: \"\";position: absolute;border-left: 1px solid gray;box-sizing: border-box;top: 0;bottom: 0;left: 50%;z-index: -1;}#sk-container-id-1 div.sk-parallel-item {display: flex;flex-direction: column;z-index: 1;position: relative;background-color: white;}#sk-container-id-1 div.sk-parallel-item:first-child::after {align-self: flex-end;width: 50%;}#sk-container-id-1 div.sk-parallel-item:last-child::after {align-self: flex-start;width: 50%;}#sk-container-id-1 div.sk-parallel-item:only-child::after {width: 0;}#sk-container-id-1 div.sk-dashed-wrapped {border: 1px dashed gray;margin: 0 0.4em 0.5em 0.4em;box-sizing: border-box;padding-bottom: 0.4em;background-color: white;}#sk-container-id-1 div.sk-label label {font-family: monospace;font-weight: bold;display: inline-block;line-height: 1.2em;}#sk-container-id-1 div.sk-label-container {text-align: center;}#sk-container-id-1 div.sk-container {/* jupyter's `normalize.less` sets `[hidden] { display: none; }` but bootstrap.min.css set `[hidden] { display: none !important; }` so we also need the `!important` here to be able to override the default hidden behavior on the sphinx rendered scikit-learn.org. See: https://github.com/scikit-learn/scikit-learn/issues/21755 */display: inline-block !important;position: relative;}#sk-container-id-1 div.sk-text-repr-fallback {display: none;}</style><div id=\"sk-container-id-1\" class=\"sk-top-container\"><div class=\"sk-text-repr-fallback\"><pre>SVC()</pre><b>In a Jupyter environment, please rerun this cell to show the HTML representation or trust the notebook. <br />On GitHub, the HTML representation is unable to render, please try loading this page with nbviewer.org.</b></div><div class=\"sk-container\" hidden><div class=\"sk-item\"><div class=\"sk-estimator sk-toggleable\"><input class=\"sk-toggleable__control sk-hidden--visually\" id=\"sk-estimator-id-1\" type=\"checkbox\" checked><label for=\"sk-estimator-id-1\" class=\"sk-toggleable__label sk-toggleable__label-arrow\">SVC</label><div class=\"sk-toggleable__content\"><pre>SVC()</pre></div></div></div></div></div>"
      ],
      "text/plain": [
       "SVC()"
      ]
     },
     "execution_count": 38,
     "metadata": {},
     "output_type": "execute_result"
    }
   ],
   "source": [
    "#Sử dụng SVM - Support Vector Machine\n",
    "from sklearn.svm import SVC\n",
    "\n",
    "svm_model = SVC()\n",
    "svm_model.fit(X_train_tfidf,y_train)"
   ]
  },
  {
   "cell_type": "code",
   "execution_count": 40,
   "id": "9af4b21d",
   "metadata": {},
   "outputs": [
    {
     "name": "stdout",
     "output_type": "stream",
     "text": [
      "Độ chính xác của mô hình trên tập huấn luyện:  100.0 %\n"
     ]
    }
   ],
   "source": [
    "#Đánh giá độ chính xác của mô hình trên tập huấn luyện\n",
    "acc_SVC = round(svm_model.score(X_train_tfidf, y_train) * 100, 2)\n",
    "\n",
    "print('Độ chính xác của mô hình trên tập huấn luyện: ', acc_SVC, '%')"
   ]
  },
  {
   "cell_type": "code",
   "execution_count": 42,
   "id": "5ed6db45",
   "metadata": {},
   "outputs": [
    {
     "name": "stdout",
     "output_type": "stream",
     "text": [
      "1.Độ chính xác của mô hình trên tập Test:  98.45 %\n",
      "2.Tổng số mẫu dự đoán đúng: 1019  / 1035\n",
      "3.Tổng số mẫu dự đoán sai: 16  / 1035\n"
     ]
    }
   ],
   "source": [
    "from sklearn.metrics import accuracy_score\n",
    "#Dự đoán và tính đoán độ chính xác của model trên tập Test:\n",
    "y_pred1 = svm_model.predict(X_test_tfidf)\n",
    "\n",
    "acc3 = round(accuracy_score(y_test, y_pred1)*100, 2)\n",
    "print('1.Độ chính xác của mô hình trên tập Test: ', acc3, '%')\n",
    "\n",
    "acc4 = accuracy_score(y_test, y_pred1, normalize=False)\n",
    "print('2.Tổng số mẫu dự đoán đúng:', acc4, ' /', len(y_test))\n",
    "print('3.Tổng số mẫu dự đoán sai:', len(y_test) - acc4, ' /', len(y_test))"
   ]
  },
  {
   "cell_type": "code",
   "execution_count": 43,
   "id": "f7543c05",
   "metadata": {},
   "outputs": [
    {
     "data": {
      "image/png": "[encoded data removed]",
      "text/plain": [
       "<Figure size 640x480 with 2 Axes>"
      ]
     },
     "metadata": {},
     "output_type": "display_data"
    }
   ],
   "source": [
    "#Hiển thị confusion matrix:\n",
    "from sklearn.metrics import confusion_matrix, ConfusionMatrixDisplay\n",
    "\n",
    "#Hiển thị dạng số:\n",
    "cm1 = confusion_matrix(y_test, y_pred1, labels=svm_model.classes_)\n",
    "disp = ConfusionMatrixDisplay(confusion_matrix=cm1, display_labels=svm_model.classes_)\n",
    "disp.plot()\n",
    "plt.show()"
   ]
  },
  {
   "cell_type": "code",
   "execution_count": null,
   "id": "14f261a1",
   "metadata": {},
   "outputs": [],
   "source": []
  },
  {
   "cell_type": "markdown",
   "id": "2777d556",
   "metadata": {},
   "source": [
    "### Áp dụng model"
   ]
  },
  {
   "cell_type": "code",
   "execution_count": 44,
   "id": "1b6ef936",
   "metadata": {},
   "outputs": [
    {
     "name": "stdout",
     "output_type": "stream",
     "text": [
      "Email:  Subject: Congratulations! You've Won $1,000,000!Body:Dear User,You have been selected as the lucky winner of our $1,000,000 cash prize! 🎉To claim your prize, simply reply to this email with your full name, address, phone number, and banking details.Act now – this offer is only valid for the next 24 hours!Thank you,[XYZ International Lottery]\n"
     ]
    }
   ],
   "source": [
    "\n",
    "cm_new_1 = \"Subject: Congratulations! You've Won $1,000,000!Body:Dear User,You have been selected as the lucky winner of our $1,000,000 cash prize! 🎉To claim your prize, simply reply to this email with your full name, address, phone number, and banking details.Act now – this offer is only valid for the next 24 hours!Thank you,[XYZ International Lottery]\"\n",
    "print('Email: ', cm_new_1)"
   ]
  },
  {
   "cell_type": "code",
   "execution_count": 45,
   "id": "887864ae",
   "metadata": {},
   "outputs": [
    {
     "name": "stdout",
     "output_type": "stream",
     "text": [
      "Chuỗi thô: Subject: Congratulations! You've Won $1,000,000!Body:Dear User,You have been selected as the lucky winner of our $1,000,000 cash prize! 🎉To claim your prize, simply reply to this email with your full name, address, phone number, and banking details.Act now – this offer is only valid for the next 24 hours!Thank you,[XYZ International Lottery]\n",
      "Chuỗi sau xử lý:  subject congratulations 1000000bodydear useryou select lucky winner 1000000 cash prize claim prize simply reply email full name address phone number bank detailsact offer valid next 24 hoursthank youxyz international lottery\n"
     ]
    }
   ],
   "source": [
    "#Tiền xử lý và chuẩn hóa comment:\n",
    "cm_new_processed = prepare_data(cm_new_1)\n",
    "\n",
    "print('Chuỗi thô:', cm_new_1)\n",
    "print('Chuỗi sau xử lý: ', cm_new_processed)"
   ]
  },
  {
   "cell_type": "code",
   "execution_count": 46,
   "id": "bea3ad25",
   "metadata": {},
   "outputs": [
    {
     "name": "stdout",
     "output_type": "stream",
     "text": [
      "text: subject congratulations 1000000bodydear useryou select lucky winner 1000000 cash prize claim prize simply reply email full name address phone number bank detailsact offer valid next 24 hoursthank youxyz international lottery\n",
      "number:   (0, 45125)\t0.2692557552512231\n",
      "  (0, 43582)\t0.1911378542365833\n",
      "  (0, 40274)\t0.038955065731583034\n",
      "  (0, 38773)\t0.20387237373766606\n",
      "  (0, 38058)\t0.1882509733101007\n",
      "  (0, 36240)\t0.16870110268762295\n",
      "  (0, 34393)\t0.4649283823957422\n",
      "  (0, 33233)\t0.15712766674310563\n",
      "  (0, 31438)\t0.14397569540325972\n",
      "  (0, 31128)\t0.13028283380217107\n",
      "  (0, 30601)\t0.1483413403179922\n",
      "  (0, 30213)\t0.1510557262066166\n",
      "  (0, 27623)\t0.2516486450461146\n",
      "  (0, 27457)\t0.26405403107430503\n",
      "  (0, 24207)\t0.19591383575253482\n",
      "  (0, 19848)\t0.1842860217629193\n",
      "  (0, 17176)\t0.12762664000828094\n",
      "  (0, 12887)\t0.26169239494649343\n",
      "  (0, 11932)\t0.22125751715571393\n",
      "  (0, 10837)\t0.1918942870475282\n",
      "  (0, 7885)\t0.20087435132143713\n",
      "  (0, 5171)\t0.1568160245551542\n",
      "  (0, 1354)\t0.14045615638562395\n",
      "shape: (1, 46692)\n"
     ]
    }
   ],
   "source": [
    "#Chuyển về số với TFIDF:\n",
    "cm_new_tfidf = vector.transform([cm_new_processed])\n",
    "\n",
    "print('text:' ,cm_new_processed)\n",
    "print('number:', cm_new_tfidf)\n",
    "print('shape:', cm_new_tfidf.shape)"
   ]
  },
  {
   "cell_type": "code",
   "execution_count": 47,
   "id": "6c439964",
   "metadata": {},
   "outputs": [
    {
     "name": "stdout",
     "output_type": "stream",
     "text": [
      "[1]\n",
      "ML said: Warning - This eamil is SPAM\n"
     ]
    }
   ],
   "source": [
    "#Dự đoán với model Naive Bayes:\n",
    "cm_new_pred = MultiNB.predict(cm_new_tfidf)\n",
    "print(cm_new_pred)\n",
    "if (cm_new_pred==0):\n",
    "    print('ML said: This email is non spam!')\n",
    "else:\n",
    "    print('ML said: Warning - This eamil is SPAM')"
   ]
  },
  {
   "cell_type": "code",
   "execution_count": 48,
   "id": "a6bfa0fb",
   "metadata": {},
   "outputs": [
    {
     "name": "stdout",
     "output_type": "stream",
     "text": [
      "[1]\n",
      "ML said: Warning - This eamil is SPAM\n"
     ]
    }
   ],
   "source": [
    "#Dự đoán với model SVM:\n",
    "cm_new_pred = svm_model.predict(cm_new_tfidf)\n",
    "print(cm_new_pred)\n",
    "if (cm_new_pred==0):\n",
    "    print('ML said: This email is non spam!')\n",
    "else:\n",
    "    print('ML said: Warning - This eamil is SPAM')"
   ]
  },
  {
   "cell_type": "code",
   "execution_count": 49,
   "id": "78de33c4",
   "metadata": {},
   "outputs": [
    {
     "name": "stdout",
     "output_type": "stream",
     "text": [
      "Subject: Meeting Reminder: Project Update Discussion\n",
      "\n",
      "Body:\n",
      "Hi Team,\n",
      "\n",
      "This is a reminder about our scheduled meeting tomorrow to discuss the updates on the project timeline and deliverables.\n",
      "\n",
      "Details:\n",
      "\n",
      "Date: November 25, 2024\n",
      "Time: 10:00 AM\n",
      "Location: Conference Room A (or via Zoom: Zoom Link)\n",
      "Please make sure to review the project documentation before the meeting and come prepared with any updates or questions. Let me know if you're unable to attend.\n",
      "\n",
      "Best regards,\n",
      "[John Smith]\n",
      "Project Manager\n",
      "[Company Name]\n"
     ]
    }
   ],
   "source": [
    "m_new2 =\"\"\"Subject: Meeting Reminder: Project Update Discussion\n",
    "\n",
    "Body:\n",
    "Hi Team,\n",
    "\n",
    "This is a reminder about our scheduled meeting tomorrow to discuss the updates on the project timeline and deliverables.\n",
    "\n",
    "Details:\n",
    "\n",
    "Date: November 25, 2024\n",
    "Time: 10:00 AM\n",
    "Location: Conference Room A (or via Zoom: Zoom Link)\n",
    "Please make sure to review the project documentation before the meeting and come prepared with any updates or questions. Let me know if you're unable to attend.\n",
    "\n",
    "Best regards,\n",
    "[John Smith]\n",
    "Project Manager\n",
    "[Company Name]\"\"\"\n",
    "print(m_new2)"
   ]
  },
  {
   "cell_type": "code",
   "execution_count": 50,
   "id": "e1a61155",
   "metadata": {},
   "outputs": [
    {
     "name": "stdout",
     "output_type": "stream",
     "text": [
      "Chuỗi thô: Subject: Meeting Reminder: Project Update Discussion\n",
      "\n",
      "Body:\n",
      "Hi Team,\n",
      "\n",
      "This is a reminder about our scheduled meeting tomorrow to discuss the updates on the project timeline and deliverables.\n",
      "\n",
      "Details:\n",
      "\n",
      "Date: November 25, 2024\n",
      "Time: 10:00 AM\n",
      "Location: Conference Room A (or via Zoom: Zoom Link)\n",
      "Please make sure to review the project documentation before the meeting and come prepared with any updates or questions. Let me know if you're unable to attend.\n",
      "\n",
      "Best regards,\n",
      "[John Smith]\n",
      "Project Manager\n",
      "[Company Name]\n",
      "Chuỗi sau xử lý:  subject meet reminder project update discussion body hi team reminder schedule meet tomorrow discuss update project timeline deliverables detail date november 25 2024 time 1000 location conference room via zoom zoom link please make sure review project documentation meet come prepare update question let know unable attend best regard john smith project manager company name\n"
     ]
    }
   ],
   "source": [
    "cm_new_processed1 = prepare_data(m_new2)\n",
    "\n",
    "print('Chuỗi thô:', m_new2)\n",
    "print('Chuỗi sau xử lý: ', cm_new_processed1)"
   ]
  },
  {
   "cell_type": "code",
   "execution_count": 51,
   "id": "803f5763",
   "metadata": {},
   "outputs": [
    {
     "name": "stdout",
     "output_type": "stream",
     "text": [
      "text: subject meet reminder project update discussion body hi team reminder schedule meet tomorrow discuss update project timeline deliverables detail date november 25 2024 time 1000 location conference room via zoom zoom link please make sure review project documentation meet come prepare update question let know unable attend best regard john smith project manager company name\n",
      "number:   (0, 46572)\t0.4053391039364033\n",
      "  (0, 43914)\t0.09908622996600143\n",
      "  (0, 43272)\t0.2713080329946266\n",
      "  (0, 42974)\t0.13143177961078745\n",
      "  (0, 41992)\t0.1066368406463301\n",
      "  (0, 41763)\t0.1709508956231742\n",
      "  (0, 41757)\t0.06764755205260559\n",
      "  (0, 41105)\t0.09908622996600143\n",
      "  (0, 40520)\t0.09174380545850776\n",
      "  (0, 40274)\t0.022880174106316188\n",
      "  (0, 39095)\t0.09460755996098914\n",
      "  (0, 37703)\t0.08536436938105446\n",
      "  (0, 36986)\t0.12198580920334341\n",
      "  (0, 36495)\t0.0954358920176\n",
      "  (0, 36134)\t0.2730746858311165\n",
      "  (0, 35980)\t0.0852289833404339\n",
      "  (0, 35289)\t0.06764755205260559\n",
      "  (0, 34523)\t0.4119491819320772\n",
      "  (0, 34221)\t0.12005112144328599\n",
      "  (0, 33623)\t0.04572036867031219\n",
      "  (0, 31027)\t0.10184304835314095\n",
      "  (0, 30213)\t0.08872225602641708\n",
      "  (0, 28681)\t0.2647658924705448\n",
      "  (0, 28015)\t0.10403771744202557\n",
      "  (0, 27941)\t0.06943724805048035\n",
      "  (0, 27283)\t0.11608663429283493\n",
      "  (0, 27061)\t0.09341871208773574\n",
      "  (0, 26844)\t0.06231153452191584\n",
      "  (0, 26004)\t0.05669123750430333\n",
      "  (0, 25175)\t0.10328252763222914\n",
      "  (0, 22228)\t0.10102091772605885\n",
      "  (0, 15892)\t0.14488044084111884\n",
      "  (0, 15584)\t0.1260231632118985\n",
      "  (0, 15582)\t0.1059588599580132\n",
      "  (0, 15114)\t0.09440507922267787\n",
      "  (0, 14817)\t0.20266955196820166\n",
      "  (0, 14379)\t0.0852289833404339\n",
      "  (0, 12823)\t0.14398306409559788\n",
      "  (0, 12597)\t0.08423834488655049\n",
      "  (0, 12484)\t0.08273746764237387\n",
      "  (0, 9211)\t0.12005112144328599\n",
      "  (0, 8570)\t0.08591406967294031\n",
      "  (0, 7322)\t0.1260231632118985\n",
      "  (0, 1409)\t0.08104618828546047\n",
      "  (0, 270)\t0.14070889187833854\n",
      "shape: (1, 46692)\n"
     ]
    }
   ],
   "source": [
    "cm_new_tfidf1 = vector.transform([cm_new_processed1])\n",
    "\n",
    "print('text:' ,cm_new_processed1)\n",
    "print('number:', cm_new_tfidf1)\n",
    "print('shape:', cm_new_tfidf1.shape)"
   ]
  },
  {
   "cell_type": "code",
   "execution_count": 52,
   "id": "72f4a356",
   "metadata": {},
   "outputs": [
    {
     "name": "stdout",
     "output_type": "stream",
     "text": [
      "[0]\n",
      "ML said: This email is non spam!\n"
     ]
    }
   ],
   "source": [
    "#Dự đoán với model Naive Bayes:\n",
    "cm_new_pred1 = MultiNB.predict(cm_new_tfidf1)\n",
    "print(cm_new_pred1)\n",
    "if (cm_new_pred1==0):\n",
    "    print('ML said: This email is non spam!')\n",
    "else:\n",
    "    print('ML said: Warning - This eamil is SPAM')"
   ]
  },
  {
   "cell_type": "code",
   "execution_count": 53,
   "id": "284c3ac9",
   "metadata": {},
   "outputs": [
    {
     "name": "stdout",
     "output_type": "stream",
     "text": [
      "[0]\n",
      "ML said: This email is non spam!\n"
     ]
    }
   ],
   "source": [
    "#Dự đoán với model SVM:\n",
    "cm_new_pred1 = svm_model.predict(cm_new_tfidf1)\n",
    "print(cm_new_pred1)\n",
    "if (cm_new_pred1==0):\n",
    "    print('ML said: This email is non spam!')\n",
    "else:\n",
    "    print('ML said: Warning - This eamil is SPAM')"
   ]
  },
  {
   "cell_type": "code",
   "execution_count": 54,
   "id": "2b8c994c",
   "metadata": {},
   "outputs": [],
   "source": [
    "import pickle\n",
    "\n",
    "# Lưu mô hình đã huấn luyện\n",
    "pickle.dump(MultiNB, open(\"Naive_model.pkl\", 'wb'))\n",
    "pickle.dump(svm_model, open(\"SVM_model.pkl\", 'wb'))\n",
    "with open('vectorizer.pkl', 'wb') as file:\n",
    "    pickle.dump(vector, file)\n"
   ]
  },
  {
   "cell_type": "code",
   "execution_count": null,
   "id": "3e3b1007",
   "metadata": {},
   "outputs": [],
   "source": []
  }
 ],
 "metadata": {
  "kernelspec": {
   "display_name": "Python 3 (ipykernel)",
   "language": "python",
   "name": "python3"
  },
  "language_info": {
   "codemirror_mode": {
    "name": "ipython",
    "version": 3
   },
   "file_extension": ".py",
   "mimetype": "text/x-python",
   "name": "python",
   "nbconvert_exporter": "python",
   "pygments_lexer": "ipython3",
   "version": "3.11.4"
  }
 },
 "nbformat": 4,
 "nbformat_minor": 5
}
